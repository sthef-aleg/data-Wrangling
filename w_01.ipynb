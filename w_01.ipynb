{
  "cells": [
    {
      "cell_type": "markdown",
      "id": "abeef4f7",
      "metadata": {
        "id": "abeef4f7"
      },
      "source": [
        "# w_01 | `pandas plot()`\n",
        "\n",
        "* Este notebook describe la funcionalidad del método `plot()` de `DataFrame` y `Series`.\n",
        "* Además se cubre backends alternativos, en particular `Plotly Express`"
      ]
    },
    {
      "cell_type": "markdown",
      "id": "19236596",
      "metadata": {
        "id": "19236596"
      },
      "source": [
        "* Primero traemos un dataset."
      ]
    },
    {
      "cell_type": "code",
      "execution_count": null,
      "id": "a1328a1e",
      "metadata": {
        "id": "a1328a1e"
      },
      "outputs": [],
      "source": [
        "import pandas as pd\n",
        "\n",
        "url = \"https://raw.githubusercontent.com/GUIAD-COVID/datos-y-visualizaciones-GUIAD/master/datos/estadisticasUY.csv\"\n",
        "data = pd.read_csv(url, index_col=0, parse_dates=True, dayfirst=True)\n",
        "data.head()"
      ]
    },
    {
      "cell_type": "code",
      "source": [
        "data.info()"
      ],
      "metadata": {
        "id": "_sDonW8ZOGJC"
      },
      "id": "_sDonW8ZOGJC",
      "execution_count": null,
      "outputs": []
    },
    {
      "cell_type": "markdown",
      "id": "d9480d39",
      "metadata": {
        "id": "d9480d39"
      },
      "source": [
        "* Como vimos, el backend por defecto es Matplotlib."
      ]
    },
    {
      "cell_type": "code",
      "execution_count": null,
      "id": "a58ef75a",
      "metadata": {
        "id": "a58ef75a"
      },
      "outputs": [],
      "source": [
        "pd.options.plotting.backend"
      ]
    },
    {
      "cell_type": "markdown",
      "id": "07bdb137",
      "metadata": {
        "id": "07bdb137"
      },
      "source": [
        "* `plot()` sin argumentos grafica líneas.\n",
        "    * Cada columna es una línea.\n",
        "    * El índice se usa para el eje de las x."
      ]
    },
    {
      "cell_type": "code",
      "execution_count": null,
      "id": "541f331a",
      "metadata": {
        "id": "541f331a"
      },
      "outputs": [],
      "source": [
        "data.plot()"
      ]
    },
    {
      "cell_type": "code",
      "execution_count": null,
      "id": "5969ff42",
      "metadata": {
        "id": "5969ff42"
      },
      "outputs": [],
      "source": [
        "data.reset_index(drop=True).plot()"
      ]
    },
    {
      "cell_type": "markdown",
      "id": "073c079f",
      "metadata": {
        "id": "073c079f"
      },
      "source": [
        "* Se puede especificar una columna distinta que el `index` para usar como eje x."
      ]
    },
    {
      "cell_type": "code",
      "execution_count": null,
      "id": "f511c988",
      "metadata": {
        "id": "f511c988"
      },
      "outputs": [],
      "source": [
        "data.plot(x=\"dia\")"
      ]
    },
    {
      "cell_type": "markdown",
      "id": "e2727bea",
      "metadata": {
        "id": "e2727bea"
      },
      "source": [
        "* Se puede especificar solo algunas columnas para graficar."
      ]
    },
    {
      "cell_type": "code",
      "execution_count": null,
      "id": "32d6b2f0",
      "metadata": {
        "id": "32d6b2f0"
      },
      "outputs": [],
      "source": [
        "data.plot(y=[\"cantFallecidos\", \"cantCTI\", \"cantCI\"])"
      ]
    },
    {
      "cell_type": "markdown",
      "id": "0937746a",
      "metadata": {
        "id": "0937746a"
      },
      "source": [
        "* Notar que esto es lo mismo que slicear el df previamente."
      ]
    },
    {
      "cell_type": "code",
      "execution_count": null,
      "id": "e85f6db0",
      "metadata": {
        "id": "e85f6db0"
      },
      "outputs": [],
      "source": [
        "data[[\"cantFallecidos\", \"cantCTI\", \"cantCI\"]].plot()"
      ]
    },
    {
      "cell_type": "markdown",
      "id": "9eaeed9d",
      "metadata": {
        "id": "9eaeed9d"
      },
      "source": [
        "* El parámetro `subplots` es particularmente útil.\n",
        "    * Crea un gráfico por cada columna.\n",
        "* Combinar con `sharex` o `sharey` logra aún mejores resultados.\n",
        "* Si no se define `layout`, apila los gráficos verticalmente.\n",
        "    * `layout` acepta un `tuple` de `(filas, columnas)`."
      ]
    },
    {
      "cell_type": "code",
      "execution_count": null,
      "id": "916bdac4",
      "metadata": {
        "id": "916bdac4"
      },
      "outputs": [],
      "source": [
        "data.loc[:, data.columns.str.contains(\"acum\")].plot(subplots=True,\n",
        "                                                    sharex=True, layout=(2, 2))"
      ]
    },
    {
      "cell_type": "markdown",
      "id": "a604fa6d",
      "metadata": {
        "id": "a604fa6d"
      },
      "source": [
        "* La anterior quedó un poco difícil de ver.\n",
        "* Para eso podemos definir el `figsize` como un `tuple`."
      ]
    },
    {
      "cell_type": "code",
      "execution_count": null,
      "id": "159f257e",
      "metadata": {
        "id": "159f257e"
      },
      "outputs": [],
      "source": [
        "data.loc[:, data.columns.str.contains(\"acum\")].plot(subplots=True, sharex=True,\n",
        "                                                    layout=(2, 2), figsize=(8, 5))"
      ]
    },
    {
      "cell_type": "markdown",
      "id": "e8bc5684",
      "metadata": {
        "id": "e8bc5684"
      },
      "source": [
        "* Podemos definir un título para el gráfico con `title`."
      ]
    },
    {
      "cell_type": "code",
      "execution_count": null,
      "id": "f48f1b51",
      "metadata": {
        "id": "f48f1b51"
      },
      "outputs": [],
      "source": [
        "data.plot(y=[\"cantTest\", \"cantCasosNuevosAjustado\", \"Positividad\"],\n",
        "          subplots=True, layout=(1, 3), figsize=(10, 4), title=\"Tests y positividad\")"
      ]
    },
    {
      "cell_type": "markdown",
      "id": "99fb1935",
      "metadata": {
        "id": "99fb1935"
      },
      "source": [
        "* La leyenda de los ejes se puede modificar con `xlabel` y `ylabel`."
      ]
    },
    {
      "cell_type": "code",
      "execution_count": null,
      "id": "81b6af4b",
      "metadata": {
        "id": "81b6af4b"
      },
      "outputs": [],
      "source": [
        "data.plot(y=[\"cantTest\", \"cantCasosNuevosAjustado\", \"Positividad\"],\n",
        "          subplots=True, layout=(1, 3), figsize=(10, 4), title=\"Tests y positividad\", xlabel=\"\")"
      ]
    },
    {
      "cell_type": "markdown",
      "id": "f0251a15",
      "metadata": {
        "id": "f0251a15"
      },
      "source": [
        "* `colormap` define los colores de los gráficos.\n",
        "* Ver las opciones en la [documentación de MPL](https://matplotlib.org/stable/gallery/color/colormap_reference.html).\n",
        "* Creamos una variable llamada 'CFR' que es \"Case Fatality Rate\" o \"Tasa de Letalidad\". Se multiplica por 100 para obtener el porcentaje.\n",
        "* `data.rolling(7).mean()` En esta línea de código, se calcula la media móvil con ventana de tamaño 7 para todas las columnas en el DataFrame data. La media móvil es una técnica que suaviza los datos y ayuda a visualizar tendencias a largo plazo. Esto calcula la media de los últimos 7 días para cada fila de datos.\n",
        "* `data.loc[data.index > \"2021-01-01\": `: Aquí, se filtran las filas en el DataFrame data y se seleccionan solo las filas con índices (fechas) mayores a \"2021-01-01\"."
      ]
    },
    {
      "cell_type": "code",
      "execution_count": null,
      "id": "45eaabb1",
      "metadata": {
        "id": "45eaabb1"
      },
      "outputs": [],
      "source": [
        "data[\"CFR\"] = (data[\"cantFallecidos\"]\n",
        "               / data[\"cantCasosNuevosAjustado\"].shift(14)) * 100\n",
        "\n",
        "data.rolling(7).mean().loc[data.index > \"2021-01-01\"].plot(y=[\"cantCasosNuevosAjustado\", \"cantFallecidos\", \"CFR\"],\n",
        "                                                           figsize=(10, 5), colormap=\"Dark2\", subplots=True,\n",
        "                                                           layout=(1, 3))"
      ]
    },
    {
      "cell_type": "markdown",
      "id": "cc879678",
      "metadata": {
        "id": "cc879678"
      },
      "source": [
        "* También es posible definir un estilo para todos los gráficos.\n",
        "* Ver galería de estilos en [la documentación](https://matplotlib.org/stable/gallery/style_sheets/style_sheets_reference.html).\n",
        "* Notar que es la primera vez que necesitamos importar Matplotlib directamente.\n",
        "    * El statement clásico es `import matplotlib.pyplot as plt`"
      ]
    },
    {
      "cell_type": "code",
      "execution_count": null,
      "id": "f349e9d1",
      "metadata": {
        "id": "f349e9d1"
      },
      "outputs": [],
      "source": [
        "import matplotlib.pyplot as plt\n",
        "\n",
        "plt.style.use(\"fivethirtyeight\")\n",
        "\n",
        "data.rolling(7).mean().loc[data.index > \"2021-01-01\"].plot(y=[\"cantCasosNuevosAjustado\", \"cantFallecidos\", \"CFR\"],\n",
        "                                                           figsize=(10, 5), subplots=True,\n",
        "                                                           layout=(1, 3))"
      ]
    },
    {
      "cell_type": "markdown",
      "id": "c9b388aa",
      "metadata": {
        "id": "c9b388aa"
      },
      "source": [
        "* Uno de los problemas de MPL es que las modificaciones que necesitemos hacer más allá del setup básico son bastante verbosas.\n",
        "* Por ejemplo, cambiar la ubicación de la leyenda de esos 3 gráficos requiere crear subplots de ante mano, ir agregando los plots individuales y cambiando las leyendas en un loop.\n",
        "* `bbox_to_anchor=(0.5, -0.3)` : Este argumento define la posición de la leyenda con respecto a los ejes del gráfico. El valor (0.5, -0.3) indica que la leyenda se colocará en la posición horizontal central (0.5) y en la posición vertical -0.3 unidades por debajo del gráfico. Los valores en el eje vertical son negativos porque -0.3 coloca la leyenda debajo del gráfico principal.\n",
        "\n",
        "* `loc=\"lower center\"`: Este argumento especifica la posición relativa de la leyenda dentro de la caja definida por bbox_to_anchor. \"lower center\" significa que la leyenda se colocará en la parte inferior central de la caja. Las opciones disponibles para loc pueden ser combinaciones de palabras clave que indiquen la posición en la caja, como \"upper left\", \"upper right\", \"lower left\", \"lower right\", \"center\", \"center left\", \"center right\", etc."
      ]
    },
    {
      "cell_type": "code",
      "execution_count": null,
      "id": "1268d8d2",
      "metadata": {
        "id": "1268d8d2"
      },
      "outputs": [],
      "source": [
        "fig, axes = plt.subplots(1, 3, figsize=(10, 5))\n",
        "\n",
        "for ax, col in zip(axes, [\"cantCasosNuevosAjustado\", \"cantFallecidos\", \"CFR\"]):\n",
        "    data.rolling(7).mean().loc[data.index > \"2021-01-01\", col].plot(ax=ax, xlabel=\"\")\n",
        "    ax.legend(bbox_to_anchor=(0.5, -0.3), loc=\"lower center\")\n",
        "plt.show()"
      ]
    },
    {
      "cell_type": "markdown",
      "id": "6ec1efad",
      "metadata": {
        "id": "6ec1efad"
      },
      "source": [
        "* Notar que el estilo elegido quedó fijado para todas las figuras.\n",
        "* Se puede usar un estilo para un bloque de código particular usando un context manager."
      ]
    },
    {
      "cell_type": "code",
      "execution_count": null,
      "id": "56a5d4df",
      "metadata": {
        "id": "56a5d4df"
      },
      "outputs": [],
      "source": [
        "with plt.style.context(\"grayscale\"):\n",
        "    data.plot(y=\"cantCTI\")\n",
        "plt.show()"
      ]
    },
    {
      "cell_type": "markdown",
      "id": "415df546",
      "metadata": {
        "id": "415df546"
      },
      "source": [
        "* Hasta ahora vimos solo el gráfico por defecto que es de líneas, pero pandas admite varios otros.\n",
        "* El parámetro `kind` define el tipo de gráfico.\n",
        "* Notar el uso de `ravel()`, un método de numpy, para transformar una matriz de 2x2 en una lista y poder iterar."
      ]
    },
    {
      "cell_type": "code",
      "execution_count": null,
      "id": "74651db5",
      "metadata": {
        "id": "74651db5"
      },
      "outputs": [],
      "source": [
        "fig, axes = plt.subplots(2, 2, figsize=(10, 6))\n",
        "for ax, kind in zip(axes.ravel(), [\"hist\", \"area\", \"kde\", \"scatter\"]):\n",
        "    if kind in [\"hexbin\", \"scatter\"]:\n",
        "        data.plot(y=\"cantFallecidos\", x=\"cantCTI\", ax=ax, kind=kind, title=kind)\n",
        "    else:\n",
        "        data.plot(y=[\"cantFallecidos\", \"cantCTI\"], ax=ax, kind=kind, stacked=False, xlabel=\"\", title=kind)\n",
        "fig.tight_layout()\n",
        "fig.suptitle(\"Varios kind\")\n",
        "plt.show()"
      ]
    },
    {
      "cell_type": "markdown",
      "id": "d9964687",
      "metadata": {
        "id": "d9964687"
      },
      "source": [
        "* Cuidado con `kind=\"bar\"`, porque asume que los datos son categóricos."
      ]
    },
    {
      "cell_type": "code",
      "execution_count": null,
      "id": "f441fffb",
      "metadata": {
        "id": "f441fffb"
      },
      "outputs": [],
      "source": [
        "data.reset_index().plot(kind=\"bar\", y=\"cantCTI\", x=\"fecha\")"
      ]
    },
    {
      "cell_type": "markdown",
      "id": "154a547a",
      "metadata": {
        "id": "154a547a"
      },
      "source": [
        "* `plt.bar()` no tiene ese problema, pero no formatea las fechas tan bien."
      ]
    },
    {
      "cell_type": "code",
      "execution_count": null,
      "id": "fd9dbd82",
      "metadata": {
        "id": "fd9dbd82"
      },
      "outputs": [],
      "source": [
        "plt.bar(height=data.loc[:, \"cantCTI\"], x=data.index)\n",
        "plt.xticks(rotation=90)\n",
        "plt.show()"
      ]
    },
    {
      "cell_type": "markdown",
      "id": "25e16adf",
      "metadata": {
        "id": "25e16adf"
      },
      "source": [
        "* Formatearlas bien es algo engorroso.\n",
        "* `mdates` de `matplotlib.dates` proporciona funciones para trabajar con fechas y horas en las visualizaciones.\n",
        "* `_, ax = plt.subplots()` Crea un nuevo conjunto de ejes (subplots) utilizando `plt.subplots()`. El subguión `_` es una convención para ignorar el valor que devuelve `plt.subplots()` que representa la figura. La variable `ax` se utiliza para referenciar los ejes del gráfico.\n",
        "* `locator = mdates.AutoDateLocator(minticks=3, maxticks=7)`: se crea un localizador de fechas automático utilizando `mdates.AutoDateLocator()`. Este localizador determinará automáticamente la ubicación y cantidad de marcas en el eje X para las fechas. Se establecen los argumentos `minticks=3` y `maxticks=7`, lo que indica que se deben mostrar entre 3 y 7 marcas de fecha en el eje X.\n",
        "\n",
        "* `formatter = mdates.ConciseDateFormatter(locator)`: Se crea un formateador de fechas conciso utilizando `mdates.ConciseDateFormatter()`. Este formateador tomará las marcas de fecha generadas por el localizador y las formateará en un formato más conciso y legible.\n",
        "\n",
        "* `ax.xaxis.set_major_locator(locator)`: Se establece el localizador de fechas creado anteriormente en el eje X utilizando `ax.xaxis.set_major_locator()`. Esto asegura que las marcas de fecha se posicionen correctamente en el eje X.\n",
        "* `ax.xaxis.set_major_formatter(formatter)`: Se establece el formateador de fechas creado anteriormente en el eje X utilizando `ax.xaxis.set_major_formatter()`. Esto garantiza que las fechas se muestren en el formato conciso y legible proporcionado por el formateador."
      ]
    },
    {
      "cell_type": "code",
      "execution_count": null,
      "id": "40598bd7",
      "metadata": {
        "id": "40598bd7"
      },
      "outputs": [],
      "source": [
        "import matplotlib.dates as mdates\n",
        "\n",
        "_, ax = plt.subplots()\n",
        "ax.bar(height=data.loc[:, \"cantCTI\"], x=data.index)\n",
        "locator = mdates.AutoDateLocator(minticks=3, maxticks=7)\n",
        "formatter = mdates.ConciseDateFormatter(locator)\n",
        "ax.xaxis.set_major_locator(locator)\n",
        "ax.xaxis.set_major_formatter(formatter)\n",
        "plt.show()"
      ]
    },
    {
      "cell_type": "markdown",
      "id": "6332a5ca",
      "metadata": {
        "id": "6332a5ca"
      },
      "source": [
        "* Podemos cambiar el backend de pandas si lo tenemos instalado."
      ]
    },
    {
      "cell_type": "code",
      "execution_count": null,
      "id": "e760780e",
      "metadata": {
        "id": "e760780e"
      },
      "outputs": [],
      "source": [
        "pd.options.plotting.backend = \"plotly\"\n",
        "\n",
        "data.plot(y=\"acumCasos\", kind=\"bar\")"
      ]
    },
    {
      "cell_type": "markdown",
      "id": "1ddf8e2c",
      "metadata": {
        "id": "1ddf8e2c"
      },
      "source": [
        "* Pero no todas las opciones funcionan.\n",
        "* el método `bar()` de `plotly` no acepta el argumento `figsize`, que es un argumento específico de `matplotlib`"
      ]
    },
    {
      "cell_type": "code",
      "execution_count": null,
      "id": "99d08424",
      "metadata": {
        "id": "99d08424"
      },
      "outputs": [],
      "source": [
        "import traceback\n",
        "\n",
        "try:\n",
        "    data.plot(y=\"acumCasos\", kind=\"bar\", figsize=(6, 4))\n",
        "except TypeError:\n",
        "    traceback.print_exc()"
      ]
    },
    {
      "cell_type": "markdown",
      "id": "8e20a089",
      "metadata": {
        "id": "8e20a089"
      },
      "source": [
        "* Por el contrario, pandas admite que pasemos `kwargs` (keyword arguments) que son transferidos a la función/método del paquete correspondiente.\n",
        "    * En este caso pasamos `width`, `height` y `template`."
      ]
    },
    {
      "cell_type": "code",
      "execution_count": null,
      "id": "78f958f8",
      "metadata": {
        "id": "78f958f8"
      },
      "outputs": [],
      "source": [
        "data.plot(y=\"acumCasos\", kind=\"bar\", width=600, height=400, template=\"seaborn\")"
      ]
    },
    {
      "cell_type": "markdown",
      "id": "73b6ac79",
      "metadata": {
        "id": "73b6ac79"
      },
      "source": [
        "* En estos casos es mejor ir a ver la documentación del backend que la de pandas directamente."
      ]
    },
    {
      "cell_type": "code",
      "execution_count": null,
      "id": "c9819e87",
      "metadata": {
        "id": "c9819e87"
      },
      "outputs": [],
      "source": [
        "deptos_url = \"https://raw.githubusercontent.com/GUIAD-COVID/datos-y-visualizaciones-GUIAD/master/datos/estadisticasUY_porDepto_detalle.csv\"\n",
        "deptos = pd.read_csv(deptos_url, index_col=0, parse_dates=True, dayfirst=True)\n",
        "deptos.head()"
      ]
    },
    {
      "cell_type": "code",
      "execution_count": null,
      "id": "1a2d5e24",
      "metadata": {
        "id": "1a2d5e24"
      },
      "outputs": [],
      "source": [
        "deptos.plot(y=\"enCurso\", color=\"departamento\", kind=\"area\")"
      ]
    },
    {
      "cell_type": "markdown",
      "source": [
        "***Nota***:  recuerda que `.isin` es una función de la biblioteca pandas en Python que se utiliza para filtrar un DataFrame o una Serie basándose en una condición de pertenencia. Su objetivo es seleccionar filas que contengan valores específicos en una columna determinada.\n",
        "\n",
        "La sintaxis general del método `.isin()` es la siguiente:\n",
        "\n",
        "`dataframe['columna'].isin(valores_a_buscar)`\n",
        "\n"
      ],
      "metadata": {
        "id": "toI3aFjcqsLy"
      },
      "id": "toI3aFjcqsLy"
    },
    {
      "cell_type": "code",
      "execution_count": null,
      "id": "5b868a75",
      "metadata": {
        "id": "5b868a75"
      },
      "outputs": [],
      "source": [
        "fig = deptos.loc[deptos[\"departamento\"]\n",
        "                 .isin([\"Rocha(UY-RO)\", \"Artigas(UY-AR)\",\n",
        "                        \"Maldonado(UY-MA)\", \"Rivera(UY-RV)\"])].plot(y=\"enCurso\", facet_row=\"departamento\",\n",
        "                                                  kind=\"area\", title=\"Casos en curso\", width=600, height=800)\n",
        "fig.update_yaxes(matches=None)\n",
        "fig.for_each_annotation(lambda a: a.update(text=a.text.split(\"=\")[-1]))\n",
        "fig.show()"
      ]
    }
  ],
  "metadata": {
    "celltoolbar": "Slideshow",
    "kernelspec": {
      "display_name": "Python 3 (ipykernel)",
      "language": "python",
      "name": "python3"
    },
    "language_info": {
      "codemirror_mode": {
        "name": "ipython",
        "version": 3
      },
      "file_extension": ".py",
      "mimetype": "text/x-python",
      "name": "python",
      "nbconvert_exporter": "python",
      "pygments_lexer": "ipython3",
      "version": "3.7.9"
    },
    "colab": {
      "provenance": []
    }
  },
  "nbformat": 4,
  "nbformat_minor": 5
}