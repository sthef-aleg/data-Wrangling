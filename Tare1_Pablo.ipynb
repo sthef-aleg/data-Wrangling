{
  "nbformat": 4,
  "nbformat_minor": 0,
  "metadata": {
    "colab": {
      "provenance": [],
      "authorship_tag": "ABX9TyO8izjORKFpY70qOewc+ujk",
      "include_colab_link": true
    },
    "kernelspec": {
      "name": "python3",
      "display_name": "Python 3"
    },
    "language_info": {
      "name": "python"
    }
  },
  "cells": [
    {
      "cell_type": "markdown",
      "metadata": {
        "id": "view-in-github",
        "colab_type": "text"
      },
      "source": [
        "<a href=\"https://colab.research.google.com/github/sthef-aleg/data-Wrangling/blob/main/Tare1_Pablo.ipynb\" target=\"_parent\"><img src=\"https://colab.research.google.com/assets/colab-badge.svg\" alt=\"Open In Colab\"/></a>"
      ]
    },
    {
      "cell_type": "code",
      "execution_count": 1,
      "metadata": {
        "colab": {
          "base_uri": "https://localhost:8080/"
        },
        "id": "tZ5dZzVQTSTP",
        "outputId": "c2351b0a-82b2-405c-d2dd-fab00f1c73ca"
      },
      "outputs": [
        {
          "output_type": "stream",
          "name": "stdout",
          "text": [
            "El área del rectángulo es: 15\n"
          ]
        }
      ],
      "source": [
        "# Cálculo del área de un rectángulo\n",
        "largo = 5\n",
        "ancho = 3\n",
        "area_rectangulo = largo * ancho\n",
        "print(\"El área del rectángulo es:\", area_rectangulo)\n"
      ]
    },
    {
      "cell_type": "code",
      "source": [
        "# Hallar el área de un rectángulo conociendo las longitudes de sus lados\n",
        "print(\"Cálculo del área de un rectángulo\")\n",
        "largo = float(input(\"Ingrese el largo: \"))\n",
        "ancho = float(input(\"Ingrese el ancho: \"))\n",
        "area_rectangulo = largo * ancho\n",
        "print(\"El área del rectángulo es:\", area_rectangulo)\n"
      ],
      "metadata": {
        "colab": {
          "base_uri": "https://localhost:8080/"
        },
        "id": "H-peeHKrTy5T",
        "outputId": "53173953-2602-4c68-eebb-45c113fc72ba"
      },
      "execution_count": 3,
      "outputs": [
        {
          "output_type": "stream",
          "name": "stdout",
          "text": [
            "Cálculo del área de un rectángulo\n",
            "Ingrese el largo: 5\n",
            "Ingrese el ancho: 3\n",
            "El área del rectángulo es: 15.0\n"
          ]
        }
      ]
    },
    {
      "cell_type": "code",
      "source": [
        "# Hallar el área de un triángulo conociendo la longitud de su base y su altura\n",
        "print(\"Cálculo del área de un triángulo\")\n",
        "base = float(input(\"Ingrese la base: \"))\n",
        "altura = float(input(\"Ingrese la altura: \"))\n",
        "area_triangulo = (base * altura) / 2\n",
        "print(\"El área del triángulo es:\", area_triangulo)\n"
      ],
      "metadata": {
        "colab": {
          "base_uri": "https://localhost:8080/"
        },
        "id": "d4vAF4EkUKAp",
        "outputId": "140f1669-2424-486b-9ea9-1ef74d105ab6"
      },
      "execution_count": 4,
      "outputs": [
        {
          "output_type": "stream",
          "name": "stdout",
          "text": [
            "Cálculo del área de un triángulo\n",
            "Ingrese la base: 2\n",
            "Ingrese la altura: 5\n",
            "El área del triángulo es: 5.0\n"
          ]
        }
      ]
    },
    {
      "cell_type": "code",
      "source": [
        "# Cálculo del monto acumulado con interés compuesto\n",
        "print(\"Cálculo de interés compuesto\")\n",
        "S = float(input(\"Ingrese la suma inicial (S): \"))\n",
        "T = float(input(\"Ingrese la tasa de interés mensual (en decimal, por ejemplo 0.03 para 3%): \"))\n",
        "N = int(input(\"Ingrese el número de meses: \"))\n",
        "monto_acumulado = S * (1 + T) ** N\n",
        "print(\"El monto acumulado luego de\", N, \"meses es:\", monto_acumulado)\n"
      ],
      "metadata": {
        "colab": {
          "base_uri": "https://localhost:8080/"
        },
        "id": "rMs_aYOwUnrg",
        "outputId": "e416cc19-adbf-47a7-9845-06b12dd84a0f"
      },
      "execution_count": 5,
      "outputs": [
        {
          "output_type": "stream",
          "name": "stdout",
          "text": [
            "Cálculo de interés compuesto\n",
            "Ingrese la suma inicial (S): 20000\n",
            "Ingrese la tasa de interés mensual (en decimal, por ejemplo 0.03 para 3%): 0.05\n",
            "Ingrese el número de meses: 8\n",
            "El monto acumulado luego de 8 meses es: 29549.10887578126\n"
          ]
        }
      ]
    },
    {
      "cell_type": "code",
      "source": [
        "# Cálculo de la hipotenusa de un triángulo rectángulo\n",
        "print(\"Cálculo de la hipotenusa\")\n",
        "A = float(input(\"Ingrese el cateto A: \"))\n",
        "B = float(input(\"Ingrese el cateto B: \"))\n",
        "hipotenusa = (A**2 + B**2)** 0.5\n",
        "print(\"La hipotenusa es:\", hipotenusa)\n"
      ],
      "metadata": {
        "colab": {
          "base_uri": "https://localhost:8080/"
        },
        "id": "oehRrUf4Vjw3",
        "outputId": "9085ece7-6800-46ac-c011-69a01349d7a5"
      },
      "execution_count": 6,
      "outputs": [
        {
          "output_type": "stream",
          "name": "stdout",
          "text": [
            "Cálculo de la hipotenusa\n",
            "Ingrese el cateto A: 4\n",
            "Ingrese el cateto B: 6\n",
            "La hipotenusa es: 7.211102550927978\n"
          ]
        }
      ]
    },
    {
      "cell_type": "code",
      "source": [
        "# Cálculo del promedio de tres números\n",
        "print(\"Cálculo del promedio\")\n",
        "N1 = float(input(\"Ingrese el primer número: \"))\n",
        "N2 = float(input(\"Ingrese el segundo número: \"))\n",
        "N3 = float(input(\"Ingrese el tercer número: \"))\n",
        "promedio = (N1 + N2 + N3) / 3\n",
        "print(\"El promedio es:\", promedio)\n"
      ],
      "metadata": {
        "colab": {
          "base_uri": "https://localhost:8080/"
        },
        "id": "VaE2GYJeV-DF",
        "outputId": "ca18d63b-56af-4d2f-e1fd-03149e4c300b"
      },
      "execution_count": 8,
      "outputs": [
        {
          "output_type": "stream",
          "name": "stdout",
          "text": [
            "Cálculo del promedio\n",
            "Ingrese el primer número: 22\n",
            "Ingrese el segundo número: 40\n",
            "Ingrese el tercer número: 60\n",
            "El promedio es: 40.666666666666664\n"
          ]
        }
      ]
    },
    {
      "cell_type": "code",
      "source": [
        "# Cálculo del tiempo de permanencia en minutos\n",
        "print(\"Cálculo del tiempo de permanencia en el trabajo\")\n",
        "hora_entrada = int(input(\"Ingrese la hora de entrada (en formato 24 horas): \"))\n",
        "minuto_entrada = int(input(\"Ingrese el minuto de entrada: \"))\n",
        "hora_salida = int(input(\"Ingrese la hora de salida (en formato 24 horas): \"))\n",
        "minuto_salida = int(input(\"Ingrese el minuto de salida: \"))\n",
        "tiempo_permanencia = (hora_salida * 60 + minuto_salida) - (hora_entrada * 60 + minuto_entrada)\n",
        "print(\"El tiempo de permanencia en minutos es:\", tiempo_permanencia)\n"
      ],
      "metadata": {
        "colab": {
          "base_uri": "https://localhost:8080/"
        },
        "id": "udmZGm6UWJmk",
        "outputId": "48e4647a-b65f-4f41-c713-0401aff5dd81"
      },
      "execution_count": 10,
      "outputs": [
        {
          "output_type": "stream",
          "name": "stdout",
          "text": [
            "Cálculo del tiempo de permanencia en el trabajo\n",
            "Ingrese la hora de entrada (en formato 24 horas): 0700\n",
            "Ingrese el minuto de entrada: 00\n",
            "Ingrese la hora de salida (en formato 24 horas): 16\n",
            "Ingrese el minuto de salida: 00\n",
            "El tiempo de permanencia en minutos es: -41040\n"
          ]
        }
      ]
    }
  ]
}